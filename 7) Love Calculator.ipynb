{
 "cells": [
  {
   "cell_type": "markdown",
   "id": "4598e158",
   "metadata": {},
   "source": [
    "# Love Calculator\n",
    "\n",
    "I spent most of my teenage years looking up online love calculators to check if Harry Styles and I were meant to be or not (would always conveniently ignore any calculators online that would read a score below 60 hahah). Thought I'd create my own simple love calculator using few lines of code! "
   ]
  },
  {
   "cell_type": "code",
   "execution_count": null,
   "id": "51eb6cb3",
   "metadata": {},
   "outputs": [],
   "source": [
    "print(\"Welcome to the Love Calculator!\\n\")\n",
    "name1 = input(\"What is your name? \\n\")\n",
    "name2 = input(\"What is their name? \\n\")\n",
    "\n",
    "true = name1.lower().count('t') + name1.lower().count('r') + name1.lower().count('u') + name1.lower().count('e') + name2.lower().count('t') + name2.lower().count('r') + name2.lower().count('u') + name2.lower().count('e')\n",
    "love = name1.lower().count('l') + name1.lower().count('o') + name1.lower().count('v') + name1.lower().count('e') + name2.lower().count('l') + name2.lower().count('o') + name2.lower().count('v') + name2.lower().count('e') \n",
    "score = str(true) + str(love)\n",
    "\n",
    "if score <= str(10) or score >= str(90):\n",
    "  print(f\"Your score is {score}, you go together like coke and mentos\")\n",
    "elif score >= str(40) and score <=  str(50):\n",
    "  print(f\"Your score is {score}, you are alright together.\")\n",
    "else:\n",
    "  print(f\"Your score is {score}%. What a power couple!\")  "
   ]
  },
  {
   "cell_type": "markdown",
   "id": "00e3152a",
   "metadata": {},
   "source": [
    "After a few days I came across the random function which could be used for this problem too which just 2-3 lines of code! But I kind like the "
   ]
  }
 ],
 "metadata": {
  "kernelspec": {
   "display_name": "Python 3",
   "language": "python",
   "name": "python3"
  },
  "language_info": {
   "codemirror_mode": {
    "name": "ipython",
    "version": 3
   },
   "file_extension": ".py",
   "mimetype": "text/x-python",
   "name": "python",
   "nbconvert_exporter": "python",
   "pygments_lexer": "ipython3",
   "version": "3.8.8"
  }
 },
 "nbformat": 4,
 "nbformat_minor": 5
}
