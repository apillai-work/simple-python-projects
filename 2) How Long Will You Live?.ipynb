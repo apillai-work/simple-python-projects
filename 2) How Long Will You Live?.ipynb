{
 "cells": [
  {
   "cell_type": "markdown",
   "id": "271a98c0",
   "metadata": {},
   "source": [
    "# How Long Will You Live?\n",
    "\n",
    "Created a simple program using math and f-strings that tells the user how many days, weeks, and months they have left if they live until 90 years old.\n",
    "\n",
    "Inspired by this article by Tim Urban - Your Life in Weeks (https://waitbutwhy.com/2014/05/life-weeks.html)\n",
    "\n"
   ]
  },
  {
   "cell_type": "code",
   "execution_count": null,
   "id": "3d13ee35",
   "metadata": {},
   "outputs": [],
   "source": [
    "age = input(\"Hello! What is your current age?\\n\")\n",
    "age_as_int = int(age)\n",
    "years_remaining = 90 - age_as_int\n",
    "days_remaining = years_remaining * 365\n",
    "weeks_remaining = years_remaining * 52\n",
    "months_remaining = years_remaining * 12\n",
    "print(f\"You have {weeks_remaining} weeks ({months_remaining} months) left if you live upto 90 years.\")"
   ]
  },
  {
   "cell_type": "code",
   "execution_count": null,
   "id": "d5c35c53",
   "metadata": {},
   "outputs": [],
   "source": []
  }
 ],
 "metadata": {
  "kernelspec": {
   "display_name": "Python 3",
   "language": "python",
   "name": "python3"
  },
  "language_info": {
   "codemirror_mode": {
    "name": "ipython",
    "version": 3
   },
   "file_extension": ".py",
   "mimetype": "text/x-python",
   "name": "python",
   "nbconvert_exporter": "python",
   "pygments_lexer": "ipython3",
   "version": "3.8.8"
  }
 },
 "nbformat": 4,
 "nbformat_minor": 5
}
