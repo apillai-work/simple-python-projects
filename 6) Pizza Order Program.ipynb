{
 "cells": [
  {
   "cell_type": "markdown",
   "id": "d8e1bb1a",
   "metadata": {},
   "source": [
    "# Pizza Order Program\n",
    "\n",
    "Created another program to practise using multiple conditionals (this may or may not have bee"
   ]
  },
  {
   "cell_type": "code",
   "execution_count": null,
   "id": "4fcd7871",
   "metadata": {},
   "outputs": [],
   "source": [
    "print(\"Welcome to Python Pizza Deliveries!\")\n",
    "size = input(\"What size pizza do you want? S, M, or L\\n\")\n",
    "add_pepperoni = input(\"Do you want pepperoni? Y or N\\n\")\n",
    "extra_cheese = input(\"Do you want extra cheese? Y or N\\n\")\n",
    "\n",
    "cost = 0\n",
    "if size == \"S\":\n",
    "  cost += 15\n",
    "  if add_pepperoni == \"Y\":\n",
    "    cost += 2\n",
    "    if extra_cheese == \"Y\":\n",
    "      cost += 1\n",
    "      print(f\"Your final bill is ${cost}\")\n",
    "    else:\n",
    "      print(f\"Your final bill is ${cost}\")   \n",
    "  else:\n",
    "    print(f\"Your final bill is ${cost}\")  \n",
    "elif size == \"M\":\n",
    "    cost += 20\n",
    "    if add_pepperoni == \"Y\":\n",
    "      cost += 3\n",
    "      if extra_cheese == \"Y\":\n",
    "        cost += 1\n",
    "        print(f\"Your final bill is ${cost}\")\n",
    "    else:\n",
    "      print(f\"Your final bill is ${cost}\")   \n",
    "elif size == \"L\":\n",
    "  cost += 25  \n",
    "  if add_pepperoni == \"Y\":\n",
    "    cost += 3\n",
    "    if extra_cheese == \"Y\":\n",
    "      cost += 1\n",
    "      print(f\"Your final bill is ${cost}\")\n",
    "    else:\n",
    "      print(f\"Your final bill is ${cost}\")   \n",
    "  else:\n",
    "    print(f\"Your final bill is ${cost}\") \n"
   ]
  }
 ],
 "metadata": {
  "kernelspec": {
   "display_name": "Python 3",
   "language": "python",
   "name": "python3"
  },
  "language_info": {
   "codemirror_mode": {
    "name": "ipython",
    "version": 3
   },
   "file_extension": ".py",
   "mimetype": "text/x-python",
   "name": "python",
   "nbconvert_exporter": "python",
   "pygments_lexer": "ipython3",
   "version": "3.8.8"
  }
 },
 "nbformat": 4,
 "nbformat_minor": 5
}
