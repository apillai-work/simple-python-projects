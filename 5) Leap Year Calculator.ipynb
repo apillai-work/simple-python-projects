{
 "cells": [
  {
   "cell_type": "markdown",
   "id": "f934205e",
   "metadata": {},
   "source": [
    "# Leap Year Calculator\n",
    "\n",
    "The reason why we have leap years is quite interesting! This great video (https://www.youtube.com/watch?v=xX96xng7sAE) does it more justice. Hence I wanted to create my own leap year calculator by making use of simple logic and the modulo operator I learnt about."
   ]
  },
  {
   "cell_type": "code",
   "execution_count": null,
   "id": "5003f8da",
   "metadata": {},
   "outputs": [],
   "source": [
    "year = int(input(\"Which year do you want to check?\\n\"))\n",
    "\n",
    "if year % 4 == 0:\n",
    "  if year % 100 == 0:\n",
    "    if year % 400 == 0:\n",
    "      print(\"Leap Year\")\n",
    "    else:  \n",
    "      print(\"Not a Leap Year\")\n",
    "  else:\n",
    "    print(\"Leap Year\")    \n",
    "else:\n",
    "  print(\"Not a leap year\")      "
   ]
  }
 ],
 "metadata": {
  "kernelspec": {
   "display_name": "Python 3",
   "language": "python",
   "name": "python3"
  },
  "language_info": {
   "codemirror_mode": {
    "name": "ipython",
    "version": 3
   },
   "file_extension": ".py",
   "mimetype": "text/x-python",
   "name": "python",
   "nbconvert_exporter": "python",
   "pygments_lexer": "ipython3",
   "version": "3.8.8"
  }
 },
 "nbformat": 4,
 "nbformat_minor": 5
}
