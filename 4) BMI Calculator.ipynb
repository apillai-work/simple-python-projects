{
 "cells": [
  {
   "cell_type": "markdown",
   "id": "c08be987",
   "metadata": {},
   "source": [
    "# BMI Calculator\n",
    "\n",
    "Wrote a simple program that calculates the Body Mass Index (BMI) based on a user's weight and height via input statements, while printing out an interpretation of the same using the score.  "
   ]
  },
  {
   "cell_type": "code",
   "execution_count": null,
   "id": "1ab1dd78",
   "metadata": {},
   "outputs": [],
   "source": [
    "height = float(input(\"enter your height in m: \"))\n",
    "weight = float(input(\"enter your weight in kg: \"))\n",
    "\n",
    "bmi = (weight/height**2)\n",
    "round_bmi = round(bmi)\n",
    "if bmi <= 18.5:\n",
    "  print(f\"Your BMI is {round_bmi}, you are underweight.\")\n",
    "elif bmi < 25:\n",
    "  print(f\"Your BMI is {round_bmi}, you have a normal weight.\")\n",
    "elif bmi < 30:\n",
    "  print(f\"Your BMI is {round_bmi}, you are slighlty overweight.\") \n",
    "elif bmi < 35:\n",
    "  print(f\"Your BMI is {round_bmi}, you are obese\")\n",
    "else:\n",
    "  print(f\"Your BMI is {round_bmi}, you are clinically obese.\")       "
   ]
  }
 ],
 "metadata": {
  "kernelspec": {
   "display_name": "Python 3",
   "language": "python",
   "name": "python3"
  },
  "language_info": {
   "codemirror_mode": {
    "name": "ipython",
    "version": 3
   },
   "file_extension": ".py",
   "mimetype": "text/x-python",
   "name": "python",
   "nbconvert_exporter": "python",
   "pygments_lexer": "ipython3",
   "version": "3.8.8"
  }
 },
 "nbformat": 4,
 "nbformat_minor": 5
}
