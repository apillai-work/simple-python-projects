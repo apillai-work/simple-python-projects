{
 "cells": [
  {
   "cell_type": "markdown",
   "id": "265e04c4",
   "metadata": {},
   "source": [
    "# Band Name Generator\n",
    "\n",
    "Created a simple program that helps a user out with band name suggestions to practise input functions and concatenation. "
   ]
  },
  {
   "cell_type": "code",
   "execution_count": null,
   "id": "c4c9a998",
   "metadata": {},
   "outputs": [],
   "source": [
    "location = input('''Hello there! Let's help you come up with a band name. \n",
    "Use an adjective to describe how you feel about the colour 'aquamarine' \\n''')\n",
    "pet_name = input(\"What is your first pet's name? \\n\")\n",
    "print(\"You band name could be \" + (location) + \" \" + (pet_name) + \"!\")"
   ]
  }
 ],
 "metadata": {
  "kernelspec": {
   "display_name": "Python 3",
   "language": "python",
   "name": "python3"
  },
  "language_info": {
   "codemirror_mode": {
    "name": "ipython",
    "version": 3
   },
   "file_extension": ".py",
   "mimetype": "text/x-python",
   "name": "python",
   "nbconvert_exporter": "python",
   "pygments_lexer": "ipython3",
   "version": "3.8.8"
  }
 },
 "nbformat": 4,
 "nbformat_minor": 5
}
