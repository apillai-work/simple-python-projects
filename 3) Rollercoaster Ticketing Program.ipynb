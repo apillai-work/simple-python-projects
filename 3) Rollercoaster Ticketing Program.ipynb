{
 "cells": [
  {
   "cell_type": "markdown",
   "id": "71b4c361",
   "metadata": {},
   "source": [
    "# Rollercoaster Fare Calculator\n",
    "\n",
    "This was a very fun project to work on as I'm a huge fan of theme parks (as a kid I'd never leave until the the security gaurds had to ask me to do so). I wnated to practise if-statements as I found them a bit tricky when I first started learning python. This simple ticketing program asks the user a set of questions and determines how much they'd need to pay in order to ride the rollercoaster. "
   ]
  },
  {
   "cell_type": "code",
   "execution_count": null,
   "id": "f2597243",
   "metadata": {},
   "outputs": [],
   "source": [
    "print(\"Hello, welcome to the roller coaster!\") \n",
    "height = int(input(\"What is your height in cm?\\n\"))\n",
    "bill = 0\n",
    "\n",
    "if height >= 120:\n",
    "    print(\"You can ride the rollercoaster!\")\n",
    "    \n",
    "    age = int(input(\"What is your age?\\n\"))\n",
    "    \n",
    "    if age >= 5 and age <= 12:\n",
    "        bill = 8\n",
    "        print(\"Child ticket costs $8\")\n",
    "    \n",
    "    elif age >= 13 and age <= 17:\n",
    "        bill = 12\n",
    "        print(\"Youth ticket costs $12\")\n",
    "    \n",
    "    elif age >= 45 and age <= 60:\n",
    "        bill = 0\n",
    "        print(\"Your ticket is free! Enjoy the ride\")\n",
    "    \n",
    "    else:\n",
    "        bill = 18\n",
    "        print(\"Your ticket costs $18\")\n",
    "        \n",
    "    wants_photo = input(\"Do you want a photo taken? It costs $3\\nYes or No?\\n\")\n",
    "    \n",
    "    if wants_photo == \"Yes\":\n",
    "        \n",
    "        bill += 3\n",
    "        print(f\"Your total bill costs ${bill}\")\n",
    "        \n",
    "    else:\n",
    "        print(f\"Your bill costs ${bill}\") \n",
    "else: \n",
    "    print(\"Sorry - you are too short to ride the rollercoaster\")"
   ]
  }
 ],
 "metadata": {
  "kernelspec": {
   "display_name": "Python 3",
   "language": "python",
   "name": "python3"
  },
  "language_info": {
   "codemirror_mode": {
    "name": "ipython",
    "version": 3
   },
   "file_extension": ".py",
   "mimetype": "text/x-python",
   "name": "python",
   "nbconvert_exporter": "python",
   "pygments_lexer": "ipython3",
   "version": "3.8.8"
  }
 },
 "nbformat": 4,
 "nbformat_minor": 5
}
